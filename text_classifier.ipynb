{
 "cells": [
  {
   "cell_type": "markdown",
   "metadata": {},
   "source": [
    "## Text Classification"
   ]
  },
  {
   "cell_type": "markdown",
   "metadata": {},
   "source": [
    "### 0 Importing needed functions and library"
   ]
  },
  {
   "cell_type": "code",
   "execution_count": 16,
   "metadata": {},
   "outputs": [],
   "source": [
    "import pandas as pd\n",
    "from sklearn.feature_extraction.text import CountVectorizer\n",
    "from sklearn.model_selection import train_test_split\n",
    "from sklearn.linear_model import LogisticRegression"
   ]
  },
  {
   "cell_type": "markdown",
   "metadata": {},
   "source": [
    "### 1 Handling data"
   ]
  },
  {
   "cell_type": "code",
   "execution_count": 11,
   "metadata": {},
   "outputs": [],
   "source": [
    "filepath_dict = {'yelp':   'sentiment_labelled_sentences/yelp_labelled.txt',\n",
    "                 'amazon': 'sentiment_labelled_sentences/amazon_cells_labelled.txt',\n",
    "                 'imdb':   'sentiment_labelled_sentences/imdb_labelled.txt'}\n",
    "\n",
    "\n",
    "df_list = []\n",
    "for source, filepath in filepath_dict.items():\n",
    "    df = pd.read_csv(filepath, names=['sentence', 'label'], sep='\\t')\n",
    "    df['source'] = source  # Add a new column for the source name\n",
    "    df_list.append(df)\n",
    "\n",
    "df_yelp = df_list[0]\n",
    "df_amazon = df_list[1]\n",
    "df_imdb= df_list[2]"
   ]
  },
  {
   "cell_type": "markdown",
   "metadata": {},
   "source": [
    "### 2 Splitting Model"
   ]
  },
  {
   "cell_type": "code",
   "execution_count": 12,
   "metadata": {},
   "outputs": [],
   "source": [
    "yelp_sentences = df_yelp['sentence'].values\n",
    "yelp_y = df_yelp['label'].values\n",
    "yelp_sentences_train, yelp_sentences_test, yelp_y_train, yelp_y_test = train_test_split(yelp_sentences, yelp_y, test_size=0.25, random_state=100)\n",
    "\n",
    "amazon_sentences = df_amazon['sentence'].values\n",
    "amazon_y = df_amazon['label'].values\n",
    "amazon_sentences_train, amazon_sentences_test, amazon_y_train, amazon_y_test = train_test_split(amazon_sentences, amazon_y, test_size=0.25, random_state=100)\n",
    "\n",
    "imdb_sentences = df_imdb['sentence'].values\n",
    "imdb_y = df_imdb['label'].values\n",
    "imdb_sentences_train, imdb_sentences_test, imdb_y_train, imdb_y_test = train_test_split(imdb_sentences, imdb_y, test_size=0.25, random_state=100)"
   ]
  },
  {
   "cell_type": "markdown",
   "metadata": {},
   "source": [
    "### 3 Transforming the sentences to a numirical values "
   ]
  },
  {
   "cell_type": "code",
   "execution_count": 14,
   "metadata": {},
   "outputs": [
    {
     "data": {
      "text/plain": [
       "<561x2517 sparse matrix of type '<class 'numpy.int64'>'\n",
       "\twith 8495 stored elements in Compressed Sparse Row format>"
      ]
     },
     "execution_count": 14,
     "metadata": {},
     "output_type": "execute_result"
    }
   ],
   "source": [
    "vectorizer = CountVectorizer()\n",
    "vectorizer.fit(yelp_sentences_train)\n",
    "\n",
    "X_train_yelp = vectorizer.transform(yelp_sentences_train)\n",
    "X_test_yelp  = vectorizer.transform(yelp_sentences_test)\n",
    "X_train_yelp \n",
    "\n",
    "vectorizer = CountVectorizer()\n",
    "vectorizer.fit(amazon_sentences_train)\n",
    "\n",
    "X_train_amazon = vectorizer.transform(amazon_sentences_train)\n",
    "X_test_amazon  = vectorizer.transform(amazon_sentences_test)\n",
    "X_train_amazon \n",
    "\n",
    "vectorizer = CountVectorizer()\n",
    "vectorizer.fit(imdb_sentences_train)\n",
    "\n",
    "X_train_imdb = vectorizer.transform(imdb_sentences_train)\n",
    "X_test_imdb  = vectorizer.transform(imdb_sentences_test)\n",
    "X_train_imdb "
   ]
  },
  {
   "cell_type": "markdown",
   "metadata": {},
   "source": [
    "### Create a model and calculate the accurcy "
   ]
  },
  {
   "cell_type": "code",
   "execution_count": 17,
   "metadata": {},
   "outputs": [
    {
     "data": {
      "text/plain": [
       "0.808"
      ]
     },
     "execution_count": 17,
     "metadata": {},
     "output_type": "execute_result"
    }
   ],
   "source": [
    "classifier_yelp = LogisticRegression()\n",
    "classifier_yelp.fit(X_train_yelp, yelp_y_train)\n",
    "score_yelp = classifier_yelp.score(X_test_yelp, yelp_y_test)\n",
    "score_yelp"
   ]
  },
  {
   "cell_type": "code",
   "execution_count": 19,
   "metadata": {},
   "outputs": [
    {
     "data": {
      "text/plain": [
       "0.808"
      ]
     },
     "execution_count": 19,
     "metadata": {},
     "output_type": "execute_result"
    }
   ],
   "source": [
    "classifier_yelp = LogisticRegression()\n",
    "classifier_yelp.fit(X_train_yelp, yelp_y_train)\n",
    "score_yelp = classifier_yelp.score(X_test_yelp, yelp_y_test)\n",
    "score_yelp"
   ]
  },
  {
   "cell_type": "code",
   "execution_count": 18,
   "metadata": {},
   "outputs": [
    {
     "data": {
      "text/plain": [
       "0.82"
      ]
     },
     "execution_count": 18,
     "metadata": {},
     "output_type": "execute_result"
    }
   ],
   "source": [
    "classifier_amazon = LogisticRegression()\n",
    "classifier_amazon.fit(X_train_amazon, amazon_y_train)\n",
    "score_amazon = classifier_amazon.score(X_test_amazon, amazon_y_test)\n",
    "score_amazon"
   ]
  },
  {
   "cell_type": "code",
   "execution_count": 20,
   "metadata": {},
   "outputs": [
    {
     "data": {
      "text/plain": [
       "0.7379679144385026"
      ]
     },
     "execution_count": 20,
     "metadata": {},
     "output_type": "execute_result"
    }
   ],
   "source": [
    "classifier_imdb = LogisticRegression()\n",
    "classifier_imdb.fit(X_train_imdb, imdb_y_train)\n",
    "score_imdb = classifier_imdb.score(X_test_imdb, imdb_y_test)\n",
    "score_imdb"
   ]
  }
 ],
 "metadata": {
  "interpreter": {
   "hash": "8e72d8d80055b330216a96b16f7334144e0bbf6ec04ddaf738bd8d7633c3138f"
  },
  "kernelspec": {
   "display_name": "Python 3.9.5 64-bit ('.venv': poetry)",
   "language": "python",
   "name": "python3"
  },
  "language_info": {
   "codemirror_mode": {
    "name": "ipython",
    "version": 3
   },
   "file_extension": ".py",
   "mimetype": "text/x-python",
   "name": "python",
   "nbconvert_exporter": "python",
   "pygments_lexer": "ipython3",
   "version": "3.9.5"
  },
  "orig_nbformat": 4
 },
 "nbformat": 4,
 "nbformat_minor": 2
}
